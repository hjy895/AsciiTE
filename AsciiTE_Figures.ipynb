{
  "cells": [
    {
      "cell_type": "markdown",
      "metadata": {},
      "source": [
        "# AsciiTE Experiment - All Figures\n",
        "\n",
        "This notebook contains all 6 figures for the AsciiTE paper, following the ELCo paper structure with ASCII art examples.\n",
        "\n",
        "## Figures Included:\n",
        "1. **Figure 1**: Dataset Statistics\n",
        "2. **Figure 2**: Compositional Structures Distribution\n",
        "3. **Figure 3**: Metaphorical Impact on ASCII Diversity\n",
        "4. **Figure 4**: Overall Performance Comparison\n",
        "5. **Figure 5**: Scaling Experiment\n",
        "6. **Figure 6**: Attention Analysis\n"
      ]
    },
    {
      "cell_type": "code",
      "execution_count": null,
      "metadata": {},
      "outputs": [],
      "source": [
        "# Import required libraries\n",
        "import json\n",
        "import matplotlib.pyplot as plt\n",
        "import numpy as np\n",
        "import pandas as pd\n",
        "from collections import Counter\n",
        "import math\n",
        "import random\n",
        "\n",
        "# Set style for academic papers\n",
        "plt.style.use('default')\n",
        "plt.rcParams['figure.figsize'] = (12, 8)\n",
        "plt.rcParams['font.size'] = 11\n",
        "plt.rcParams['font.family'] = 'serif'\n",
        "\n",
        "# Set random seed for reproducibility\n",
        "np.random.seed(42)\n",
        "random.seed(42)\n",
        "\n",
        "print(\"Libraries imported successfully!\")\n"
      ]
    }
  ],
  "metadata": {
    "language_info": {
      "name": "python"
    }
  },
  "nbformat": 4,
  "nbformat_minor": 2
}
